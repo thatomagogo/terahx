{
 "cells": [
  {
   "cell_type": "code",
   "execution_count": 1,
   "id": "209d6028-84a1-42ab-8378-40ed4af93405",
   "metadata": {},
   "outputs": [
    {
     "name": "stdout",
     "output_type": "stream",
     "text": [
      "OK, Computer\n"
     ]
    }
   ],
   "source": [
    "print('OK, Computer')"
   ]
  },
  {
   "cell_type": "code",
   "execution_count": null,
   "id": "35fef1b2-4311-4269-af36-dfcdbbd22c65",
   "metadata": {},
   "outputs": [],
   "source": []
  }
 ],
 "metadata": {
  "kernelspec": {
   "display_name": "Python 3 (ipykernel)",
   "language": "python",
   "name": "python3"
  },
  "language_info": {
   "codemirror_mode": {
    "name": "ipython",
    "version": 3
   },
   "file_extension": ".py",
   "mimetype": "text/x-python",
   "name": "python",
   "nbconvert_exporter": "python",
   "pygments_lexer": "ipython3",
   "version": "3.12.0"
  }
 },
 "nbformat": 4,
 "nbformat_minor": 5
}
